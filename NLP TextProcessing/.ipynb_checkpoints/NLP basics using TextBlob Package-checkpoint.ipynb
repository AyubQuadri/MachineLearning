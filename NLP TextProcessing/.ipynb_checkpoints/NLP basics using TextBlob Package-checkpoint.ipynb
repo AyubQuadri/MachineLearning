{
 "cells": [
  {
   "cell_type": "code",
   "execution_count": null,
   "metadata": {
    "collapsed": true
   },
   "outputs": [],
   "source": [
    "# In this tutorial we will see the difference between the libraries for NLP\n",
    "# will use NLTK and Text blob and do various operations\n"
   ]
  },
  {
   "cell_type": "code",
   "execution_count": 3,
   "metadata": {
    "collapsed": true
   },
   "outputs": [],
   "source": [
    "from textblob import TextBlob"
   ]
  },
  {
   "cell_type": "code",
   "execution_count": 7,
   "metadata": {
    "collapsed": false
   },
   "outputs": [],
   "source": [
    "# initialize a free text using TextBlob \n",
    "text = TextBlob(\"Welcome to the python programming language using NLTK package and TextBlob package. My self Shah Ayub Quadri from Hyderabad, India. I love Machine learning algorithms and Text mining.\")"
   ]
  },
  {
   "cell_type": "markdown",
   "metadata": {},
   "source": [
    "# Tokenization using TextBlob "
   ]
  },
  {
   "cell_type": "code",
   "execution_count": 13,
   "metadata": {
    "collapsed": false
   },
   "outputs": [
    {
     "data": {
      "text/plain": [
       "WordList(['Welcome', 'to', 'the', 'python', 'programming', 'language', 'using', 'NLTK', 'package', 'and', 'TextBlob', 'package', 'My', 'self', 'Shah', 'Ayub', 'Quadri', 'from', 'Hyderabad', 'India', 'I', 'love', 'Machine', 'learning', 'algorithms', 'and', 'Text', 'mining'])"
      ]
     },
     "execution_count": 13,
     "metadata": {},
     "output_type": "execute_result"
    }
   ],
   "source": [
    "# tokenization can be done into words or sentences\n",
    "    # tokenize to words\n",
    "\n",
    "text.words\n"
   ]
  },
  {
   "cell_type": "code",
   "execution_count": 14,
   "metadata": {
    "collapsed": false
   },
   "outputs": [
    {
     "data": {
      "text/plain": [
       "[Sentence(\"Welcome to the python programming language using NLTK package and TextBlob package.\"),\n",
       " Sentence(\"My self Shah Ayub Quadri from Hyderabad, India.\"),\n",
       " Sentence(\"I love Machine learning algorithms and Text mining.\")]"
      ]
     },
     "execution_count": 14,
     "metadata": {},
     "output_type": "execute_result"
    }
   ],
   "source": [
    "    #tokenize to sentence\n",
    "text.sentences"
   ]
  },
  {
   "cell_type": "markdown",
   "metadata": {},
   "source": [
    "# Check for singular and plural"
   ]
  },
  {
   "cell_type": "code",
   "execution_count": 15,
   "metadata": {
    "collapsed": false
   },
   "outputs": [
    {
     "data": {
      "text/plain": [
       "WordList(['Welcome', 'to', 'the', 'python', 'programming', 'language', 'using', 'NLTK', 'package', 'and', 'TextBlob', 'package', 'My', 'self', 'Shah', 'Ayub', 'Quadrus', 'from', 'Hyderabad', 'Indium', 'I', 'love', 'Machine', 'learning', 'algorithm', 'and', 'Text', 'mining'])"
      ]
     },
     "execution_count": 15,
     "metadata": {},
     "output_type": "execute_result"
    }
   ],
   "source": [
    "text.words.singularize()\n"
   ]
  },
  {
   "cell_type": "code",
   "execution_count": 17,
   "metadata": {
    "collapsed": false
   },
   "outputs": [
    {
     "name": "stdout",
     "output_type": "stream",
     "text": [
      "['Welcomes', 'toes', 'thes', 'pythons', 'programmings', 'languages', 'usings', 'NLTKs', 'packages', 'ands', 'TextBlobs', 'packages', 'Mys', 'selves', 'Shahs', 'Ayubs', 'Quadris', 'froms', 'Hyderabads', 'Indias', 'we', 'love', 'Machines', 'learnings', 'algorithmss', 'ands', 'Texts', 'minings']\n"
     ]
    }
   ],
   "source": [
    "plurals =text.words.pluralize()\n",
    "print(plurals)"
   ]
  },
  {
   "cell_type": "code",
   "execution_count": 32,
   "metadata": {
    "collapsed": false
   },
   "outputs": [
    {
     "name": "stdout",
     "output_type": "stream",
     "text": [
      "['Welcome', 'to', 'the', 'python', 'programming', 'language', 'using', 'NLTK', 'package', 'and', 'TextBlob', 'package', 'My', 'self', 'Shah', 'Ayub', 'Quadri', 'from', 'Hyderabad', 'India', 'we', 'love', 'Machine', 'learning', 'algorithms', 'and', 'Text', 'mining']\n"
     ]
    }
   ],
   "source": [
    "singular =plurals.singularize()\n",
    "print(singular)"
   ]
  },
  {
   "cell_type": "markdown",
   "metadata": {},
   "source": [
    "# Lemmatization"
   ]
  },
  {
   "cell_type": "code",
   "execution_count": 30,
   "metadata": {
    "collapsed": false
   },
   "outputs": [
    {
     "data": {
      "text/plain": [
       "WordList(['Welcomes', 'toe', 'thes', 'python', 'programming', 'language', 'using', 'NLTKs', 'package', 'ands', 'TextBlobs', 'package', 'Mys', 'self', 'Shahs', 'Ayubs', 'Quadris', 'froms', 'Hyderabads', 'Indias', 'we', 'love', 'Machines', 'learning', 'algorithm', 'ands', 'Texts', 'mining'])"
      ]
     },
     "execution_count": 30,
     "metadata": {},
     "output_type": "execute_result"
    }
   ],
   "source": [
    "from textblob import Word\n",
    "L = Word(\"lions\")\n",
    "L.lemmatize()\n",
    "\n"
   ]
  },
  {
   "cell_type": "code",
   "execution_count": 33,
   "metadata": {
    "collapsed": false
   },
   "outputs": [
    {
     "data": {
      "text/plain": [
       "WordList(['Welcome', 'to', 'the', 'python', 'programming', 'language', 'using', 'NLTK', 'package', 'and', 'TextBlob', 'package', 'My', 'self', 'Shah', 'Ayub', 'Quadri', 'from', 'Hyderabad', 'India', 'we', 'love', 'Machine', 'learning', 'algorithm', 'and', 'Text', 'mining'])"
      ]
     },
     "execution_count": 33,
     "metadata": {},
     "output_type": "execute_result"
    }
   ],
   "source": [
    "singular.lemmatize()"
   ]
  },
  {
   "cell_type": "markdown",
   "metadata": {},
   "source": [
    "# POS tagging using TextBlob Package just call (text).tags "
   ]
  },
  {
   "cell_type": "code",
   "execution_count": 8,
   "metadata": {
    "collapsed": false
   },
   "outputs": [
    {
     "data": {
      "text/plain": [
       "[('Welcome', 'VB'),\n",
       " ('to', 'TO'),\n",
       " ('the', 'DT'),\n",
       " ('python', 'NN'),\n",
       " ('programming', 'NN'),\n",
       " ('language', 'NN'),\n",
       " ('using', 'VBG'),\n",
       " ('NLTK', 'NNP'),\n",
       " ('package', 'NN'),\n",
       " ('and', 'CC'),\n",
       " ('TextBlob', 'NNP'),\n",
       " ('package', 'NN'),\n",
       " ('My', 'PRP$'),\n",
       " ('self', 'NN'),\n",
       " ('Shah', 'NNP'),\n",
       " ('Ayub', 'NNP'),\n",
       " ('Quadri', 'NNP'),\n",
       " ('from', 'IN'),\n",
       " ('Hyderabad', 'NNP'),\n",
       " ('India', 'NNP'),\n",
       " ('I', 'PRP'),\n",
       " ('love', 'VBP'),\n",
       " ('Machine', 'NNP'),\n",
       " ('learning', 'VBG'),\n",
       " ('algorithms', 'NN'),\n",
       " ('and', 'CC'),\n",
       " ('Text', 'NNP'),\n",
       " ('mining', 'NN')]"
      ]
     },
     "execution_count": 8,
     "metadata": {},
     "output_type": "execute_result"
    }
   ],
   "source": [
    "text.tags"
   ]
  },
  {
   "cell_type": "code",
   "execution_count": 9,
   "metadata": {
    "collapsed": false
   },
   "outputs": [
    {
     "data": {
      "text/plain": [
       "WordList(['welcome', 'nltk', 'textblob', 'shah ayub quadri', 'hyderabad', 'india', 'machine', 'learning algorithms', 'text'])"
      ]
     },
     "execution_count": 9,
     "metadata": {},
     "output_type": "execute_result"
    }
   ],
   "source": [
    "# Extract the Noun phrases in the sentance using (text).noun_phrases \n",
    "    # it returns a list of noun phrases's in the text corpus\n",
    "\n",
    "text.noun_phrases\n"
   ]
  },
  {
   "cell_type": "markdown",
   "metadata": {},
   "source": [
    "# Classification using TextBlob"
   ]
  },
  {
   "cell_type": "code",
   "execution_count": 47,
   "metadata": {
    "collapsed": false
   },
   "outputs": [
    {
     "name": "stdout",
     "output_type": "stream",
     "text": [
      "[('I love this sandwich.', 'pos'), ('this is an amazing place!', 'pos'), ('I feel very good about these beers.', 'pos'), ('this is my best work.', 'pos'), ('what an awesome view', 'pos'), ('I do not like this restaurant', 'neg'), ('I am tired of this stuff.', 'neg'), (\"I can't deal with this\", 'neg'), ('he is my sworn enemy!', 'neg'), ('my boss is horrible.', 'neg'), ('weather is bad today!', 'neg')]\n",
      "------test file ----\n",
      "[('the beer was good.', 'pos'), ('I do not enjoy my job', 'neg'), (\"I ain't feeling dandy today.\", 'neg'), ('I feel amazing!', 'pos'), ('Gary is a friend of mine.', 'pos'), (\"I can't believe I'm doing this.\", 'neg')]\n"
     ]
    }
   ],
   "source": [
    "train =[ ('I love this sandwich.', 'pos'),\n",
    "       ('this is an amazing place!', 'pos'),\n",
    "       ('I feel very good about these beers.', 'pos'),\n",
    "       ('this is my best work.', 'pos'),\n",
    "       (\"what an awesome view\", 'pos'),\n",
    "       ('I do not like this restaurant', 'neg'),\n",
    "       ('I am tired of this stuff.', 'neg'),\n",
    "       (\"I can't deal with this\", 'neg'),\n",
    "       ('he is my sworn enemy!', 'neg'),\n",
    "       ('my boss is horrible.', 'neg'),\n",
    "       ('weather is bad today!','neg')]\n",
    "\n",
    "test= [('the beer was good.', 'pos'),\n",
    "     ('I do not enjoy my job', 'neg'),\n",
    "     (\"I ain't feeling dandy today.\", 'neg'),\n",
    "     (\"I feel amazing!\", 'pos'),\n",
    "     ('Gary is a friend of mine.', 'pos'),\n",
    "     (\"I can't believe I'm doing this.\", 'neg')]\n",
    "\n",
    "print(train)\n",
    "print(\"------test file ----\")\n",
    "print(test)"
   ]
  },
  {
   "cell_type": "code",
   "execution_count": 48,
   "metadata": {
    "collapsed": false
   },
   "outputs": [],
   "source": [
    "# train the classifer model using trianing data set\n",
    "\n",
    "from textblob.classifiers import NaiveBayesClassifier\n",
    "classifier = NaiveBayesClassifier(train)"
   ]
  },
  {
   "cell_type": "code",
   "execution_count": 51,
   "metadata": {
    "collapsed": false
   },
   "outputs": [
    {
     "data": {
      "text/plain": [
       "'pos'"
      ]
     },
     "execution_count": 51,
     "metadata": {},
     "output_type": "execute_result"
    }
   ],
   "source": [
    "# test by passing the normal text\n",
    "classifier.classify(\"i am feeling very good today!\")"
   ]
  },
  {
   "cell_type": "code",
   "execution_count": 50,
   "metadata": {
    "collapsed": false
   },
   "outputs": [
    {
     "data": {
      "text/plain": [
       "'neg'"
      ]
     },
     "execution_count": 50,
     "metadata": {},
     "output_type": "execute_result"
    }
   ],
   "source": [
    "# test by passing the normal text\n",
    "classifier.classify(\"weather is bad today!\")"
   ]
  },
  {
   "cell_type": "code",
   "execution_count": 52,
   "metadata": {
    "collapsed": false
   },
   "outputs": [
    {
     "data": {
      "text/plain": [
       "0.8333333333333334"
      ]
     },
     "execution_count": 52,
     "metadata": {},
     "output_type": "execute_result"
    }
   ],
   "source": [
    "#evaluate the model on test \n",
    "classifier.accuracy(test)"
   ]
  },
  {
   "cell_type": "code",
   "execution_count": 57,
   "metadata": {
    "collapsed": false
   },
   "outputs": [
    {
     "name": "stdout",
     "output_type": "stream",
     "text": [
      "Most Informative Features\n",
      "            contains(my) = True              neg : pos    =      1.7 : 1.0\n",
      "            contains(an) = False             neg : pos    =      1.6 : 1.0\n",
      "             contains(I) = True              neg : pos    =      1.4 : 1.0\n",
      "             contains(I) = False             pos : neg    =      1.4 : 1.0\n",
      "            contains(my) = False             pos : neg    =      1.3 : 1.0\n"
     ]
    }
   ],
   "source": [
    "classifer.show_informative_features(5)"
   ]
  },
  {
   "cell_type": "code",
   "execution_count": null,
   "metadata": {
    "collapsed": true
   },
   "outputs": [],
   "source": []
  }
 ],
 "metadata": {
  "anaconda-cloud": {},
  "kernelspec": {
   "display_name": "Python [default]",
   "language": "python",
   "name": "python3"
  },
  "language_info": {
   "codemirror_mode": {
    "name": "ipython",
    "version": 3
   },
   "file_extension": ".py",
   "mimetype": "text/x-python",
   "name": "python",
   "nbconvert_exporter": "python",
   "pygments_lexer": "ipython3",
   "version": "3.5.2"
  }
 },
 "nbformat": 4,
 "nbformat_minor": 1
}
